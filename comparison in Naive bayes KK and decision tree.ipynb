{
 "cells": [
  {
   "cell_type": "code",
   "execution_count": 3,
   "id": "8c50c5db",
   "metadata": {},
   "outputs": [
    {
     "name": "stderr",
     "output_type": "stream",
     "text": [
      "C:\\Users\\Anannya Saha\\anaconda3\\lib\\site-packages\\pandas\\util\\_decorators.py:311: ParserWarning: Falling back to the 'python' engine because the 'c' engine does not support regex separators (separators > 1 char and different from '\\s+' are interpreted as regex); you can avoid this warning by specifying engine='python'.\n",
      "  return func(*args, **kwargs)\n"
     ]
    },
    {
     "data": {
      "text/plain": [
       "(     frequent flyer miles  percentage of time  liters of ice cream       Class\n",
       " 0                   40920            8.326976             0.953952  largeDoses\n",
       " 1                   14488            7.153469             1.673904  smallDoses\n",
       " 2                   26052            1.441871             0.805124   didntLike\n",
       " 3                   75136           13.147394             0.428964   didntLike\n",
       " 4                   38344            1.669788             0.134296   didntLike\n",
       " ..                    ...                 ...                  ...         ...\n",
       " 595                 28631            7.661515             0.055981  largeDoses\n",
       " 596                 71036            6.353608             1.645301   didntLike\n",
       " 597                 71142           10.442780             0.335870   didntLike\n",
       " 598                 37653            3.834509             1.346121   didntLike\n",
       " 599                 76839           10.998587             0.584555   didntLike\n",
       " \n",
       " [600 rows x 4 columns],\n",
       "      frequent flyer miles  percentage of time  liters of ice cream       Class\n",
       " 0                    9916            2.695935             1.512111  smallDoses\n",
       " 1                   38889            3.356646             0.324230   didntLike\n",
       " 2                   39075           14.677836             0.793183  largeDoses\n",
       " 3                   48071            1.551934             0.130902   didntLike\n",
       " 4                    7275            2.464739             0.223502  smallDoses\n",
       " ..                    ...                 ...                  ...         ...\n",
       " 395                 11145            3.410627             0.631838  smallDoses\n",
       " 396                 68846            9.974715             0.669787   didntLike\n",
       " 397                 26575           10.650102             0.866627  largeDoses\n",
       " 398                 48111            9.134528             0.728045  largeDoses\n",
       " 399                 43757            7.882601             1.332446  largeDoses\n",
       " \n",
       " [400 rows x 4 columns])"
      ]
     },
     "execution_count": 3,
     "metadata": {},
     "output_type": "execute_result"
    }
   ],
   "source": [
    "import pandas as pd\n",
    "data_train = pd.read_csv('datingData_training.txt',sep=\"\\t+\",header=None)\n",
    "data_train.columns=['frequent flyer miles','percentage of time','liters of ice cream','Class']\n",
    "data_test=pd.read_csv('datingData_test.txt',sep=\"\\t+\",header=None)\n",
    "data_test.columns=['frequent flyer miles','percentage of time','liters of ice cream','Class']\n",
    "data_train,data_test"
   ]
  },
  {
   "cell_type": "code",
   "execution_count": 4,
   "id": "3e22108d",
   "metadata": {},
   "outputs": [],
   "source": [
    "data_train_Y=data_train['Class']\n",
    "data_train_X=data_train.drop('Class',axis=1)\n",
    "data_test_Y=data_test['Class']\n",
    "data_test_X=data_test.drop('Class',axis=1)"
   ]
  },
  {
   "cell_type": "code",
   "execution_count": 2,
   "id": "8591ae02",
   "metadata": {},
   "outputs": [],
   "source": [
    "from sklearn.model_selection import train_test_split\n",
    "\n",
    "from sklearn.neighbors import KNeighborsClassifier\n",
    "import matplotlib.pyplot as plt\n",
    "%matplotlib inline\n",
    "from sklearn import tree\n",
    "from sklearn.metrics import f1_score\n",
    "import time\n",
    "import numpy as np"
   ]
  },
  {
   "cell_type": "code",
   "execution_count": 5,
   "id": "28b7d116",
   "metadata": {},
   "outputs": [],
   "source": [
    "data=pd.concat([data_train,data_test],axis=0)\n",
    "data\n",
    "X=data.drop('Class',axis=1)\n",
    "Y=data['Class']\n"
   ]
  },
  {
   "cell_type": "code",
   "execution_count": 6,
   "id": "7348c2f6",
   "metadata": {},
   "outputs": [
    {
     "data": {
      "text/html": [
       "<div>\n",
       "<style scoped>\n",
       "    .dataframe tbody tr th:only-of-type {\n",
       "        vertical-align: middle;\n",
       "    }\n",
       "\n",
       "    .dataframe tbody tr th {\n",
       "        vertical-align: top;\n",
       "    }\n",
       "\n",
       "    .dataframe thead th {\n",
       "        text-align: right;\n",
       "    }\n",
       "</style>\n",
       "<table border=\"1\" class=\"dataframe\">\n",
       "  <thead>\n",
       "    <tr style=\"text-align: right;\">\n",
       "      <th></th>\n",
       "      <th>Accuracy</th>\n",
       "      <th>Precision</th>\n",
       "      <th>F1</th>\n",
       "      <th>id_</th>\n",
       "    </tr>\n",
       "  </thead>\n",
       "  <tbody>\n",
       "    <tr>\n",
       "      <th>0</th>\n",
       "      <td>0.93</td>\n",
       "      <td>0.930000</td>\n",
       "      <td>0.930000</td>\n",
       "      <td>1</td>\n",
       "    </tr>\n",
       "    <tr>\n",
       "      <th>1</th>\n",
       "      <td>0.90</td>\n",
       "      <td>0.901958</td>\n",
       "      <td>0.898250</td>\n",
       "      <td>2</td>\n",
       "    </tr>\n",
       "    <tr>\n",
       "      <th>2</th>\n",
       "      <td>0.93</td>\n",
       "      <td>0.935766</td>\n",
       "      <td>0.928721</td>\n",
       "      <td>3</td>\n",
       "    </tr>\n",
       "    <tr>\n",
       "      <th>3</th>\n",
       "      <td>0.96</td>\n",
       "      <td>0.964211</td>\n",
       "      <td>0.959821</td>\n",
       "      <td>4</td>\n",
       "    </tr>\n",
       "    <tr>\n",
       "      <th>4</th>\n",
       "      <td>0.96</td>\n",
       "      <td>0.962727</td>\n",
       "      <td>0.959418</td>\n",
       "      <td>5</td>\n",
       "    </tr>\n",
       "    <tr>\n",
       "      <th>5</th>\n",
       "      <td>0.98</td>\n",
       "      <td>0.980286</td>\n",
       "      <td>0.979996</td>\n",
       "      <td>6</td>\n",
       "    </tr>\n",
       "    <tr>\n",
       "      <th>6</th>\n",
       "      <td>0.96</td>\n",
       "      <td>0.959973</td>\n",
       "      <td>0.959842</td>\n",
       "      <td>7</td>\n",
       "    </tr>\n",
       "    <tr>\n",
       "      <th>7</th>\n",
       "      <td>0.97</td>\n",
       "      <td>0.971462</td>\n",
       "      <td>0.969683</td>\n",
       "      <td>8</td>\n",
       "    </tr>\n",
       "    <tr>\n",
       "      <th>8</th>\n",
       "      <td>0.96</td>\n",
       "      <td>0.960414</td>\n",
       "      <td>0.959633</td>\n",
       "      <td>9</td>\n",
       "    </tr>\n",
       "    <tr>\n",
       "      <th>9</th>\n",
       "      <td>0.94</td>\n",
       "      <td>0.945245</td>\n",
       "      <td>0.938272</td>\n",
       "      <td>10</td>\n",
       "    </tr>\n",
       "  </tbody>\n",
       "</table>\n",
       "</div>"
      ],
      "text/plain": [
       "   Accuracy  Precision        F1  id_\n",
       "0      0.93   0.930000  0.930000    1\n",
       "1      0.90   0.901958  0.898250    2\n",
       "2      0.93   0.935766  0.928721    3\n",
       "3      0.96   0.964211  0.959821    4\n",
       "4      0.96   0.962727  0.959418    5\n",
       "5      0.98   0.980286  0.979996    6\n",
       "6      0.96   0.959973  0.959842    7\n",
       "7      0.97   0.971462  0.969683    8\n",
       "8      0.96   0.960414  0.959633    9\n",
       "9      0.94   0.945245  0.938272   10"
      ]
     },
     "execution_count": 6,
     "metadata": {},
     "output_type": "execute_result"
    }
   ],
   "source": [
    "from sklearn.model_selection import cross_val_score\n",
    "clf=tree.DecisionTreeClassifier(max_depth=3)\n",
    "cross_fold_accuracy=cross_val_score(clf,X,Y,cv=10,scoring='accuracy')\n",
    "cross_fold_precision=cross_val_score(clf,X,Y,cv=10,scoring='precision_weighted')\n",
    "cross_fold_f1=cross_val_score(clf,X,Y,cv=10,scoring='f1_weighted')\n",
    "report_cf={}\n",
    "report_cf= pd.DataFrame(report_cf)\n",
    "report_cf=report_cf.assign(Accuracy=cross_fold_accuracy)\n",
    "report_cf=report_cf.assign(Precision=cross_fold_precision)\n",
    "report_cf=report_cf.assign(F1=cross_fold_f1)\n",
    "report_cf=report_cf.assign(id_=[1,2,3,4,5,6,7,8,9,10])\n",
    "report_cf"
   ]
  },
  {
   "cell_type": "code",
   "execution_count": 13,
   "id": "e4eddc5f",
   "metadata": {},
   "outputs": [
    {
     "data": {
      "text/plain": [
       "<AxesSubplot:xlabel='id_'>"
      ]
     },
     "execution_count": 13,
     "metadata": {},
     "output_type": "execute_result"
    },
    {
     "data": {
      "image/png": "[encoded data removed]",
      "text/plain": [
       "<Figure size 648x576 with 1 Axes>"
      ]
     },
     "metadata": {
      "needs_background": "light"
     },
     "output_type": "display_data"
    }
   ],
   "source": [
    "report_cf.plot(x='id_', y=[\"Accuracy\", \"Precision\",\"F1\"], kind=\"bar\", figsize=(9, 8))"
   ]
  },
  {
   "cell_type": "code",
   "execution_count": 21,
   "id": "ac41d410",
   "metadata": {},
   "outputs": [
    {
     "data": {
      "text/plain": [
       "Text(0, 0.5, 'F_measure')"
      ]
     },
     "execution_count": 21,
     "metadata": {},
     "output_type": "execute_result"
    },
    {
     "data": {
      "image/png": "[encoded data removed]",
      "text/plain": [
       "<Figure size 432x288 with 1 Axes>"
      ]
     },
     "metadata": {
      "needs_background": "light"
     },
     "output_type": "display_data"
    }
   ],
   "source": [
    "import numpy as np\n",
    "from sklearn.naive_bayes import GaussianNB\n",
    "from sklearn import metrics\n",
    "trials_1=[1,2,3,4,5,6,7,8,9,10]\n",
    "\n",
    "f_measure_kk=np.zeros(len(trials_1))\n",
    "f_measure_dt=np.zeros(len(trials_1))\n",
    "index=0\n",
    "for i in trials_1:\n",
    "    clf = KNeighborsClassifier(i, p=2)\n",
    "    clf.fit(data_train_X, data_train_Y)\n",
    "    Y_predTest = clf.predict(data_test_X)\n",
    "    f_measure_kk[index]=f1_score(data_test_Y, Y_predTest,average='weighted')\n",
    "    index=index+1\n",
    "index=0\n",
    "for i in trials_1:\n",
    "    clf = tree.DecisionTreeClassifier(max_depth=i)\n",
    "    clf.fit(data_train_X, data_train_Y)\n",
    "    Y_predTest=clf.predict(data_test_X)\n",
    "    f_measure_dt[index]=f1_score(data_test_Y, Y_predTest,average='weighted')\n",
    "    index=index+1\n",
    "naive_bayes = GaussianNB()\n",
    "naive_bayes.fit(data_train_X, data_train_Y)\n",
    "Y_predTest=naive_bayes.predict(data_test_X)\n",
    "naive_f1=metrics.f1_score(Y_predTest , data_test_Y,average='weighted')\n",
    "naive_f1_arr=np.full(10,naive_f1)\n",
    "plt.plot(trials_1,f_measure_kk,'ro-',trials_1,f_measure_dt,'bv--',trials_1,naive_f1_arr,'g*-')\n",
    "plt.legend(['KKclassifier','Decision Tree','Naive bayes'])\n",
    "plt.xlabel('depth/neighbors')\n",
    "plt.ylabel('F_measure')"
   ]
  },
  {
   "cell_type": "code",
   "execution_count": null,
   "id": "f608ef94",
   "metadata": {},
   "outputs": [],
   "source": []
  },
  {
   "cell_type": "code",
   "execution_count": null,
   "id": "f4790dc3",
   "metadata": {},
   "outputs": [],
   "source": []
  },
  {
   "cell_type": "code",
   "execution_count": null,
   "id": "4c15b8f1",
   "metadata": {},
   "outputs": [],
   "source": []
  },
  {
   "cell_type": "code",
   "execution_count": null,
   "id": "4a5dbf88",
   "metadata": {},
   "outputs": [],
   "source": []
  },
  {
   "cell_type": "code",
   "execution_count": null,
   "id": "39bcebf2",
   "metadata": {},
   "outputs": [],
   "source": []
  }
 ],
 "metadata": {
  "kernelspec": {
   "display_name": "Python 3 (ipykernel)",
   "language": "python",
   "name": "python3"
  },
  "language_info": {
   "codemirror_mode": {
    "name": "ipython",
    "version": 3
   },
   "file_extension": ".py",
   "mimetype": "text/x-python",
   "name": "python",
   "nbconvert_exporter": "python",
   "pygments_lexer": "ipython3",
   "version": "3.9.7"
  }
 },
 "nbformat": 4,
 "nbformat_minor": 5
}
