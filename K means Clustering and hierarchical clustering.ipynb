{
 "cells": [
  {
   "cell_type": "code",
   "execution_count": 6,
   "id": "b133f753",
   "metadata": {},
   "outputs": [],
   "source": [
    "from sklearn import cluster\n",
    "import pandas as pd\n"
   ]
  },
  {
   "cell_type": "code",
   "execution_count": 159,
   "id": "6dc4f173",
   "metadata": {},
   "outputs": [
    {
     "name": "stderr",
     "output_type": "stream",
     "text": [
      "C:\\Users\\Anannya Saha\\anaconda3\\lib\\site-packages\\pandas\\util\\_decorators.py:311: ParserWarning: Falling back to the 'python' engine because the 'c' engine does not support regex separators (separators > 1 char and different from '\\s+' are interpreted as regex); you can avoid this warning by specifying engine='python'.\n",
      "  return func(*args, **kwargs)\n"
     ]
    }
   ],
   "source": [
    "missing_values = [\"?\"]\n",
    "data=pd.read_csv(\"https://archive.ics.uci.edu/ml/machine-learning-databases/breast-cancer-wisconsin/breast-cancer-wisconsin.data\",sep=\"\\,+\",header=None,na_values = missing_values)"
   ]
  },
  {
   "cell_type": "code",
   "execution_count": 160,
   "id": "0552a41c",
   "metadata": {},
   "outputs": [],
   "source": [
    "data=data.dropna()\n",
    "data2=data.drop(0,axis=1)\n",
    "data2=data2.drop(10,axis=1)"
   ]
  },
  {
   "cell_type": "code",
   "execution_count": 161,
   "id": "a5cf2101",
   "metadata": {},
   "outputs": [
    {
     "data": {
      "text/html": [
       "<div>\n",
       "<style scoped>\n",
       "    .dataframe tbody tr th:only-of-type {\n",
       "        vertical-align: middle;\n",
       "    }\n",
       "\n",
       "    .dataframe tbody tr th {\n",
       "        vertical-align: top;\n",
       "    }\n",
       "\n",
       "    .dataframe thead th {\n",
       "        text-align: right;\n",
       "    }\n",
       "</style>\n",
       "<table border=\"1\" class=\"dataframe\">\n",
       "  <thead>\n",
       "    <tr style=\"text-align: right;\">\n",
       "      <th></th>\n",
       "      <th>Cluster ID</th>\n",
       "    </tr>\n",
       "  </thead>\n",
       "  <tbody>\n",
       "    <tr>\n",
       "      <th>0</th>\n",
       "      <td>1</td>\n",
       "    </tr>\n",
       "    <tr>\n",
       "      <th>1</th>\n",
       "      <td>0</td>\n",
       "    </tr>\n",
       "    <tr>\n",
       "      <th>2</th>\n",
       "      <td>1</td>\n",
       "    </tr>\n",
       "    <tr>\n",
       "      <th>3</th>\n",
       "      <td>0</td>\n",
       "    </tr>\n",
       "    <tr>\n",
       "      <th>4</th>\n",
       "      <td>1</td>\n",
       "    </tr>\n",
       "    <tr>\n",
       "      <th>...</th>\n",
       "      <td>...</td>\n",
       "    </tr>\n",
       "    <tr>\n",
       "      <th>678</th>\n",
       "      <td>1</td>\n",
       "    </tr>\n",
       "    <tr>\n",
       "      <th>679</th>\n",
       "      <td>1</td>\n",
       "    </tr>\n",
       "    <tr>\n",
       "      <th>680</th>\n",
       "      <td>0</td>\n",
       "    </tr>\n",
       "    <tr>\n",
       "      <th>681</th>\n",
       "      <td>0</td>\n",
       "    </tr>\n",
       "    <tr>\n",
       "      <th>682</th>\n",
       "      <td>0</td>\n",
       "    </tr>\n",
       "  </tbody>\n",
       "</table>\n",
       "<p>683 rows × 1 columns</p>\n",
       "</div>"
      ],
      "text/plain": [
       "     Cluster ID\n",
       "0             1\n",
       "1             0\n",
       "2             1\n",
       "3             0\n",
       "4             1\n",
       "..          ...\n",
       "678           1\n",
       "679           1\n",
       "680           0\n",
       "681           0\n",
       "682           0\n",
       "\n",
       "[683 rows x 1 columns]"
      ]
     },
     "execution_count": 161,
     "metadata": {},
     "output_type": "execute_result"
    }
   ],
   "source": [
    "k_means = cluster.KMeans(n_clusters=2, max_iter=50, random_state=1)\n",
    "k_means.fit(data2) \n",
    "labels = k_means.labels_\n",
    "pd.DataFrame(labels,  columns=['Cluster ID'])"
   ]
  },
  {
   "cell_type": "code",
   "execution_count": 162,
   "id": "6e3ebae2",
   "metadata": {},
   "outputs": [],
   "source": [
    "import numpy as np\n"
   ]
  },
  {
   "cell_type": "code",
   "execution_count": 163,
   "id": "48693c06",
   "metadata": {},
   "outputs": [
    {
     "data": {
      "text/html": [
       "<div>\n",
       "<style scoped>\n",
       "    .dataframe tbody tr th:only-of-type {\n",
       "        vertical-align: middle;\n",
       "    }\n",
       "\n",
       "    .dataframe tbody tr th {\n",
       "        vertical-align: top;\n",
       "    }\n",
       "\n",
       "    .dataframe thead th {\n",
       "        text-align: right;\n",
       "    }\n",
       "</style>\n",
       "<table border=\"1\" class=\"dataframe\">\n",
       "  <thead>\n",
       "    <tr style=\"text-align: right;\">\n",
       "      <th></th>\n",
       "      <th>1</th>\n",
       "      <th>2</th>\n",
       "      <th>3</th>\n",
       "      <th>4</th>\n",
       "      <th>5</th>\n",
       "      <th>6</th>\n",
       "      <th>7</th>\n",
       "      <th>8</th>\n",
       "      <th>9</th>\n",
       "    </tr>\n",
       "  </thead>\n",
       "  <tbody>\n",
       "    <tr>\n",
       "      <th>0</th>\n",
       "      <td>7.173913</td>\n",
       "      <td>6.800000</td>\n",
       "      <td>6.734783</td>\n",
       "      <td>5.739130</td>\n",
       "      <td>5.478261</td>\n",
       "      <td>7.930435</td>\n",
       "      <td>6.108696</td>\n",
       "      <td>6.039130</td>\n",
       "      <td>2.569565</td>\n",
       "    </tr>\n",
       "    <tr>\n",
       "      <th>1</th>\n",
       "      <td>3.055188</td>\n",
       "      <td>1.298013</td>\n",
       "      <td>1.428256</td>\n",
       "      <td>1.353201</td>\n",
       "      <td>2.094923</td>\n",
       "      <td>1.317881</td>\n",
       "      <td>2.092715</td>\n",
       "      <td>1.260486</td>\n",
       "      <td>1.112583</td>\n",
       "    </tr>\n",
       "  </tbody>\n",
       "</table>\n",
       "</div>"
      ],
      "text/plain": [
       "          1         2         3         4         5         6         7  \\\n",
       "0  7.173913  6.800000  6.734783  5.739130  5.478261  7.930435  6.108696   \n",
       "1  3.055188  1.298013  1.428256  1.353201  2.094923  1.317881  2.092715   \n",
       "\n",
       "          8         9  \n",
       "0  6.039130  2.569565  \n",
       "1  1.260486  1.112583  "
      ]
     },
     "execution_count": 163,
     "metadata": {},
     "output_type": "execute_result"
    }
   ],
   "source": [
    "centroids = k_means.cluster_centers_\n",
    "pd.DataFrame(centroids,columns=data2.columns)"
   ]
  },
  {
   "cell_type": "code",
   "execution_count": null,
   "id": "c74f551f",
   "metadata": {},
   "outputs": [],
   "source": []
  },
  {
   "cell_type": "code",
   "execution_count": 164,
   "id": "f8863465",
   "metadata": {},
   "outputs": [
    {
     "name": "stderr",
     "output_type": "stream",
     "text": [
      "C:\\Users\\Anannya Saha\\anaconda3\\lib\\site-packages\\sklearn\\cluster\\_kmeans.py:881: UserWarning: KMeans is known to have a memory leak on Windows with MKL, when there are less chunks than available threads. You can avoid it by setting the environment variable OMP_NUM_THREADS=3.\n",
      "  warnings.warn(\n"
     ]
    },
    {
     "data": {
      "text/plain": [
       "Text(0, 0.5, 'SSE')"
      ]
     },
     "execution_count": 164,
     "metadata": {},
     "output_type": "execute_result"
    },
    {
     "data": {
      "image/png": "[encoded data removed]",
      "text/plain": [
       "<Figure size 432x288 with 1 Axes>"
      ]
     },
     "metadata": {
      "needs_background": "light"
     },
     "output_type": "display_data"
    }
   ],
   "source": [
    "import matplotlib.pyplot as plt\n",
    "%matplotlib inline\n",
    "\n",
    "numClusters = [1,2,3,4,5,6]\n",
    "SSE = []\n",
    "for k in numClusters:\n",
    "    k_means = cluster.KMeans(n_clusters=k)\n",
    "    k_means.fit(data2)\n",
    "    SSE.append(k_means.inertia_)\n",
    "\n",
    "plt.plot(numClusters, SSE)\n",
    "plt.xlabel('Number of Clusters')\n",
    "plt.ylabel('SSE')"
   ]
  },
  {
   "cell_type": "code",
   "execution_count": 165,
   "id": "da776faf",
   "metadata": {},
   "outputs": [
    {
     "data": {
      "text/html": [
       "<div>\n",
       "<style scoped>\n",
       "    .dataframe tbody tr th:only-of-type {\n",
       "        vertical-align: middle;\n",
       "    }\n",
       "\n",
       "    .dataframe tbody tr th {\n",
       "        vertical-align: top;\n",
       "    }\n",
       "\n",
       "    .dataframe thead th {\n",
       "        text-align: right;\n",
       "    }\n",
       "</style>\n",
       "<table border=\"1\" class=\"dataframe\">\n",
       "  <thead>\n",
       "    <tr style=\"text-align: right;\">\n",
       "      <th></th>\n",
       "      <th>1</th>\n",
       "      <th>2</th>\n",
       "      <th>3</th>\n",
       "      <th>4</th>\n",
       "      <th>5</th>\n",
       "      <th>6</th>\n",
       "      <th>7</th>\n",
       "      <th>8</th>\n",
       "      <th>9</th>\n",
       "    </tr>\n",
       "  </thead>\n",
       "  <tbody>\n",
       "    <tr>\n",
       "      <th>0</th>\n",
       "      <td>3.055188</td>\n",
       "      <td>1.298013</td>\n",
       "      <td>1.428256</td>\n",
       "      <td>1.353201</td>\n",
       "      <td>2.094923</td>\n",
       "      <td>1.317881</td>\n",
       "      <td>2.092715</td>\n",
       "      <td>1.260486</td>\n",
       "      <td>1.112583</td>\n",
       "    </tr>\n",
       "    <tr>\n",
       "      <th>1</th>\n",
       "      <td>7.173913</td>\n",
       "      <td>6.800000</td>\n",
       "      <td>6.734783</td>\n",
       "      <td>5.739130</td>\n",
       "      <td>5.478261</td>\n",
       "      <td>7.930435</td>\n",
       "      <td>6.108696</td>\n",
       "      <td>6.039130</td>\n",
       "      <td>2.569565</td>\n",
       "    </tr>\n",
       "  </tbody>\n",
       "</table>\n",
       "</div>"
      ],
      "text/plain": [
       "          1         2         3         4         5         6         7  \\\n",
       "0  3.055188  1.298013  1.428256  1.353201  2.094923  1.317881  2.092715   \n",
       "1  7.173913  6.800000  6.734783  5.739130  5.478261  7.930435  6.108696   \n",
       "\n",
       "          8         9  \n",
       "0  1.260486  1.112583  \n",
       "1  6.039130  2.569565  "
      ]
     },
     "execution_count": 165,
     "metadata": {},
     "output_type": "execute_result"
    }
   ],
   "source": [
    "k_means = cluster.KMeans(n_clusters=2)\n",
    "k_means.fit(data2)\n",
    "centroids = k_means.cluster_centers_\n",
    "pd.DataFrame(centroids,columns=data2.columns)"
   ]
  },
  {
   "cell_type": "code",
   "execution_count": 166,
   "id": "0f451437",
   "metadata": {},
   "outputs": [],
   "source": [
    "\n",
    "d = k_means.transform(data2)[:, 0]\n",
    "ind = np.argsort(d)[:5]"
   ]
  },
  {
   "cell_type": "code",
   "execution_count": 167,
   "id": "7c1998c8",
   "metadata": {},
   "outputs": [
    {
     "data": {
      "text/plain": [
       "array([633, 604, 518,  22, 583], dtype=int64)"
      ]
     },
     "execution_count": 167,
     "metadata": {},
     "output_type": "execute_result"
    }
   ],
   "source": [
    "ind"
   ]
  },
  {
   "cell_type": "code",
   "execution_count": 168,
   "id": "8e3675a5",
   "metadata": {},
   "outputs": [],
   "source": [
    "d2= k_means.transform(data2)[:, 1]\n",
    "ind2 = np.argsort(d2)[:5]"
   ]
  },
  {
   "cell_type": "code",
   "execution_count": 169,
   "id": "c7010410",
   "metadata": {},
   "outputs": [
    {
     "data": {
      "text/plain": [
       "array([452, 194, 225, 155, 610], dtype=int64)"
      ]
     },
     "execution_count": 169,
     "metadata": {},
     "output_type": "execute_result"
    }
   ],
   "source": [
    "ind2"
   ]
  },
  {
   "cell_type": "code",
   "execution_count": 170,
   "id": "1f6c3ea7",
   "metadata": {},
   "outputs": [
    {
     "data": {
      "image/png": "[encoded data removed]",
      "text/plain": [
       "<Figure size 432x288 with 1 Axes>"
      ]
     },
     "metadata": {
      "needs_background": "light"
     },
     "output_type": "display_data"
    }
   ],
   "source": [
    "from scipy.cluster import hierarchy\n",
    "import matplotlib.pyplot as plt\n",
    "%matplotlib inline\n",
    "\n",
    "id_num = data[0]\n",
    "\n",
    "Z = hierarchy.linkage(data2.to_numpy(), 'single')\n",
    "dn = hierarchy.dendrogram(Z,labels=id_num.tolist(),orientation='right',truncate_mode='lastp',p=20,show_contracted=True)"
   ]
  },
  {
   "cell_type": "code",
   "execution_count": 171,
   "id": "74cf563d",
   "metadata": {},
   "outputs": [
    {
     "data": {
      "text/html": [
       "<div>\n",
       "<style scoped>\n",
       "    .dataframe tbody tr th:only-of-type {\n",
       "        vertical-align: middle;\n",
       "    }\n",
       "\n",
       "    .dataframe tbody tr th {\n",
       "        vertical-align: top;\n",
       "    }\n",
       "\n",
       "    .dataframe thead th {\n",
       "        text-align: right;\n",
       "    }\n",
       "</style>\n",
       "<table border=\"1\" class=\"dataframe\">\n",
       "  <thead>\n",
       "    <tr style=\"text-align: right;\">\n",
       "      <th></th>\n",
       "      <th>1</th>\n",
       "      <th>2</th>\n",
       "      <th>3</th>\n",
       "      <th>4</th>\n",
       "      <th>5</th>\n",
       "      <th>6</th>\n",
       "      <th>7</th>\n",
       "      <th>8</th>\n",
       "      <th>9</th>\n",
       "    </tr>\n",
       "  </thead>\n",
       "  <tbody>\n",
       "    <tr>\n",
       "      <th>0</th>\n",
       "      <td>5</td>\n",
       "      <td>1</td>\n",
       "      <td>1</td>\n",
       "      <td>1</td>\n",
       "      <td>2</td>\n",
       "      <td>1.0</td>\n",
       "      <td>3</td>\n",
       "      <td>1</td>\n",
       "      <td>1</td>\n",
       "    </tr>\n",
       "    <tr>\n",
       "      <th>1</th>\n",
       "      <td>5</td>\n",
       "      <td>4</td>\n",
       "      <td>4</td>\n",
       "      <td>5</td>\n",
       "      <td>7</td>\n",
       "      <td>10.0</td>\n",
       "      <td>3</td>\n",
       "      <td>2</td>\n",
       "      <td>1</td>\n",
       "    </tr>\n",
       "    <tr>\n",
       "      <th>2</th>\n",
       "      <td>3</td>\n",
       "      <td>1</td>\n",
       "      <td>1</td>\n",
       "      <td>1</td>\n",
       "      <td>2</td>\n",
       "      <td>2.0</td>\n",
       "      <td>3</td>\n",
       "      <td>1</td>\n",
       "      <td>1</td>\n",
       "    </tr>\n",
       "    <tr>\n",
       "      <th>3</th>\n",
       "      <td>6</td>\n",
       "      <td>8</td>\n",
       "      <td>8</td>\n",
       "      <td>1</td>\n",
       "      <td>3</td>\n",
       "      <td>4.0</td>\n",
       "      <td>3</td>\n",
       "      <td>7</td>\n",
       "      <td>1</td>\n",
       "    </tr>\n",
       "    <tr>\n",
       "      <th>4</th>\n",
       "      <td>4</td>\n",
       "      <td>1</td>\n",
       "      <td>1</td>\n",
       "      <td>3</td>\n",
       "      <td>2</td>\n",
       "      <td>1.0</td>\n",
       "      <td>3</td>\n",
       "      <td>1</td>\n",
       "      <td>1</td>\n",
       "    </tr>\n",
       "    <tr>\n",
       "      <th>...</th>\n",
       "      <td>...</td>\n",
       "      <td>...</td>\n",
       "      <td>...</td>\n",
       "      <td>...</td>\n",
       "      <td>...</td>\n",
       "      <td>...</td>\n",
       "      <td>...</td>\n",
       "      <td>...</td>\n",
       "      <td>...</td>\n",
       "    </tr>\n",
       "    <tr>\n",
       "      <th>694</th>\n",
       "      <td>3</td>\n",
       "      <td>1</td>\n",
       "      <td>1</td>\n",
       "      <td>1</td>\n",
       "      <td>3</td>\n",
       "      <td>2.0</td>\n",
       "      <td>1</td>\n",
       "      <td>1</td>\n",
       "      <td>1</td>\n",
       "    </tr>\n",
       "    <tr>\n",
       "      <th>695</th>\n",
       "      <td>2</td>\n",
       "      <td>1</td>\n",
       "      <td>1</td>\n",
       "      <td>1</td>\n",
       "      <td>2</td>\n",
       "      <td>1.0</td>\n",
       "      <td>1</td>\n",
       "      <td>1</td>\n",
       "      <td>1</td>\n",
       "    </tr>\n",
       "    <tr>\n",
       "      <th>696</th>\n",
       "      <td>5</td>\n",
       "      <td>10</td>\n",
       "      <td>10</td>\n",
       "      <td>3</td>\n",
       "      <td>7</td>\n",
       "      <td>3.0</td>\n",
       "      <td>8</td>\n",
       "      <td>10</td>\n",
       "      <td>2</td>\n",
       "    </tr>\n",
       "    <tr>\n",
       "      <th>697</th>\n",
       "      <td>4</td>\n",
       "      <td>8</td>\n",
       "      <td>6</td>\n",
       "      <td>4</td>\n",
       "      <td>3</td>\n",
       "      <td>4.0</td>\n",
       "      <td>10</td>\n",
       "      <td>6</td>\n",
       "      <td>1</td>\n",
       "    </tr>\n",
       "    <tr>\n",
       "      <th>698</th>\n",
       "      <td>4</td>\n",
       "      <td>8</td>\n",
       "      <td>8</td>\n",
       "      <td>5</td>\n",
       "      <td>4</td>\n",
       "      <td>5.0</td>\n",
       "      <td>10</td>\n",
       "      <td>4</td>\n",
       "      <td>1</td>\n",
       "    </tr>\n",
       "  </tbody>\n",
       "</table>\n",
       "<p>683 rows × 9 columns</p>\n",
       "</div>"
      ],
      "text/plain": [
       "     1   2   3  4  5     6   7   8  9\n",
       "0    5   1   1  1  2   1.0   3   1  1\n",
       "1    5   4   4  5  7  10.0   3   2  1\n",
       "2    3   1   1  1  2   2.0   3   1  1\n",
       "3    6   8   8  1  3   4.0   3   7  1\n",
       "4    4   1   1  3  2   1.0   3   1  1\n",
       "..  ..  ..  .. .. ..   ...  ..  .. ..\n",
       "694  3   1   1  1  3   2.0   1   1  1\n",
       "695  2   1   1  1  2   1.0   1   1  1\n",
       "696  5  10  10  3  7   3.0   8  10  2\n",
       "697  4   8   6  4  3   4.0  10   6  1\n",
       "698  4   8   8  5  4   5.0  10   4  1\n",
       "\n",
       "[683 rows x 9 columns]"
      ]
     },
     "execution_count": 171,
     "metadata": {},
     "output_type": "execute_result"
    }
   ],
   "source": [
    "data2"
   ]
  },
  {
   "cell_type": "code",
   "execution_count": 172,
   "id": "f17a4e09",
   "metadata": {},
   "outputs": [
    {
     "data": {
      "image/png": "[encoded data removed]",
      "text/plain": [
       "<Figure size 432x288 with 1 Axes>"
      ]
     },
     "metadata": {
      "needs_background": "light"
     },
     "output_type": "display_data"
    }
   ],
   "source": [
    "Z = hierarchy.linkage(data2.to_numpy(), 'complete')\n",
    "dn = hierarchy.dendrogram(Z,labels=id_num.tolist(),orientation='right',truncate_mode='lastp',p=20,show_contracted=True)"
   ]
  },
  {
   "cell_type": "code",
   "execution_count": 173,
   "id": "bf890ec2",
   "metadata": {},
   "outputs": [
    {
     "data": {
      "image/png": "[encoded data removed]",
      "text/plain": [
       "<Figure size 432x288 with 1 Axes>"
      ]
     },
     "metadata": {
      "needs_background": "light"
     },
     "output_type": "display_data"
    }
   ],
   "source": [
    "Z = hierarchy.linkage(data2.to_numpy(), 'average')\n",
    "dn = hierarchy.dendrogram(Z,labels=id_num.tolist(),orientation='right',truncate_mode='lastp',p=20,show_contracted=True)"
   ]
  },
  {
   "cell_type": "code",
   "execution_count": null,
   "id": "c6b48eb9",
   "metadata": {},
   "outputs": [],
   "source": [
    "missing_values = [\"?\"]\n",
    "data=pd.read_csv(\"https://archive.ics.uci.edu/ml/machine-learning-databases/breast-cancer-wisconsin/breast-cancer-wisconsin.data\",sep=\"\\,+\",header=None,na_values = missing_values)"
   ]
  },
  {
   "cell_type": "code",
   "execution_count": 7,
   "id": "849e925b",
   "metadata": {
    "scrolled": true
   },
   "outputs": [
    {
     "name": "stderr",
     "output_type": "stream",
     "text": [
      "C:\\Users\\Anannya Saha\\anaconda3\\lib\\site-packages\\pandas\\util\\_decorators.py:311: ParserWarning: Falling back to the 'python' engine because the 'c' engine does not support regex separators (separators > 1 char and different from '\\s+' are interpreted as regex); you can avoid this warning by specifying engine='python'.\n",
      "  return func(*args, **kwargs)\n"
     ]
    }
   ],
   "source": [
    "import pandas as pd\n",
    "data_wave = pd.read_csv('waveform.data',sep=\"\\,+\",header=None)"
   ]
  },
  {
   "cell_type": "code",
   "execution_count": 8,
   "id": "2651b117",
   "metadata": {},
   "outputs": [],
   "source": [
    "data_wave=data_wave.drop(21,axis=1)"
   ]
  },
  {
   "cell_type": "code",
   "execution_count": 9,
   "id": "f89d31a4",
   "metadata": {},
   "outputs": [
    {
     "data": {
      "text/plain": [
       "Text(0, 0.5, 'SSE')"
      ]
     },
     "execution_count": 9,
     "metadata": {},
     "output_type": "execute_result"
    },
    {
     "data": {
      "image/png": "[encoded data removed]",
      "text/plain": [
       "<Figure size 432x288 with 1 Axes>"
      ]
     },
     "metadata": {
      "needs_background": "light"
     },
     "output_type": "display_data"
    }
   ],
   "source": [
    "import matplotlib.pyplot as plt\n",
    "%matplotlib inline\n",
    "\n",
    "numClusters = [2,3,4,5,6]\n",
    "SSE = []\n",
    "for k in numClusters:\n",
    "    k_means = cluster.KMeans(n_clusters=k)\n",
    "    k_means.fit(data_wave)\n",
    "    SSE.append(k_means.inertia_)\n",
    "\n",
    "plt.plot(numClusters, SSE)\n",
    "plt.xlabel('Number of Clusters')\n",
    "plt.ylabel('SSE')"
   ]
  },
  {
   "cell_type": "code",
   "execution_count": 10,
   "id": "6da5ff22",
   "metadata": {},
   "outputs": [
    {
     "data": {
      "image/png": "[encoded data removed]",
      "text/plain": [
       "<Figure size 432x288 with 1 Axes>"
      ]
     },
     "metadata": {
      "needs_background": "light"
     },
     "output_type": "display_data"
    }
   ],
   "source": [
    "from scipy.cluster import hierarchy\n",
    "import matplotlib.pyplot as plt\n",
    "%matplotlib inline\n",
    "\n",
    "\n",
    "Z = hierarchy.linkage(data_wave.to_numpy(), 'average')\n",
    "dn = hierarchy.dendrogram(Z,orientation='right',truncate_mode='lastp',p=20,show_contracted=True)"
   ]
  },
  {
   "cell_type": "code",
   "execution_count": 11,
   "id": "8a99d774",
   "metadata": {},
   "outputs": [
    {
     "data": {
      "image/png": "[encoded data removed]",
      "text/plain": [
       "<Figure size 432x288 with 1 Axes>"
      ]
     },
     "metadata": {
      "needs_background": "light"
     },
     "output_type": "display_data"
    }
   ],
   "source": [
    "Z = hierarchy.linkage(data_wave.to_numpy(), 'complete')\n",
    "dn = hierarchy.dendrogram(Z,orientation='right',truncate_mode='lastp',p=20,show_contracted=True)"
   ]
  },
  {
   "cell_type": "code",
   "execution_count": null,
   "id": "65048352",
   "metadata": {},
   "outputs": [],
   "source": [
    "from scipy.cluster import hierarchy\n",
    "import matplotlib.pyplot as plt\n",
    "%matplotlib inline\n",
    "import pandas as pd\n",
    "import sys\n",
    "sys.setrecursionlimit(10000)\n",
    "data_wave = pd.read_csv('waveform.data',sep=\"\\,+\",header=None)\n",
    "data_wave=data_wave.drop(21,axis=1)\n",
    "Z = hierarchy.linkage(data_wave.to_numpy(), 'single')\n",
    "dn = hierarchy.dendrogram(Z,orientation='right',truncate_mode='lastp',p=20,show_contracted=True)"
   ]
  }
 ],
 "metadata": {
  "kernelspec": {
   "display_name": "Python 3 (ipykernel)",
   "language": "python",
   "name": "python3"
  },
  "language_info": {
   "codemirror_mode": {
    "name": "ipython",
    "version": 3
   },
   "file_extension": ".py",
   "mimetype": "text/x-python",
   "name": "python",
   "nbconvert_exporter": "python",
   "pygments_lexer": "ipython3",
   "version": "3.9.7"
  }
 },
 "nbformat": 4,
 "nbformat_minor": 5
}
